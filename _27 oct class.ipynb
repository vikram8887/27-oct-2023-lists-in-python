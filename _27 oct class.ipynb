{
 "cells": [
  {
   "cell_type": "markdown",
   "id": "3f8b2f87",
   "metadata": {},
   "source": [
    "# Documantation of lists in python (27-oct-2023)"
   ]
  },
  {
   "cell_type": "markdown",
   "id": "620c9cab",
   "metadata": {},
   "source": [
    "## 1.)  sort():"
   ]
  },
  {
   "cell_type": "markdown",
   "id": "486338ed",
   "metadata": {},
   "source": [
    "### can use the sort() method to sort the elements of a list in ascending order. Here's how you use it:"
   ]
  },
  {
   "cell_type": "markdown",
   "id": "6537a73d",
   "metadata": {},
   "source": [
    "### this sort can be either assending order or desinding order"
   ]
  },
  {
   "cell_type": "code",
   "execution_count": 1,
   "id": "8a6c3117",
   "metadata": {},
   "outputs": [
    {
     "name": "stdout",
     "output_type": "stream",
     "text": [
      "[1, 2, 3, 4, 5]\n"
     ]
    }
   ],
   "source": [
    "my_list = [3, 1, 2, 4, 5]\n",
    "\n",
    "# Sort the list in ascending order\n",
    "my_list.sort()                                         # ascending order\n",
    "\n",
    "print(my_list)"
   ]
  },
  {
   "cell_type": "code",
   "execution_count": 5,
   "id": "6202ad34",
   "metadata": {},
   "outputs": [
    {
     "name": "stdout",
     "output_type": "stream",
     "text": [
      "[5, 4, 3, 2, 1]\n"
     ]
    }
   ],
   "source": [
    "my_list = [3, 1, 2, 4, 5]\n",
    "\n",
    "# Sort the list in desending order\n",
    "my_list.sort(reverse= True)\n",
    "                                                        # desending order\n",
    "print(my_list)"
   ]
  },
  {
   "cell_type": "code",
   "execution_count": 10,
   "id": "696fbff8",
   "metadata": {},
   "outputs": [
    {
     "data": {
      "text/plain": [
       "['red', 'green', 'blue']"
      ]
     },
     "execution_count": 10,
     "metadata": {},
     "output_type": "execute_result"
    }
   ],
   "source": [
    "x=['blue','red','green']\n",
    "x.sort(reverse=True)\n",
    "x"
   ]
  },
  {
   "cell_type": "code",
   "execution_count": 11,
   "id": "b02dee39",
   "metadata": {},
   "outputs": [
    {
     "data": {
      "text/plain": [
       "['blue', 'green', 'red']"
      ]
     },
     "execution_count": 11,
     "metadata": {},
     "output_type": "execute_result"
    }
   ],
   "source": [
    "x.sort()\n",
    "x"
   ]
  },
  {
   "cell_type": "markdown",
   "id": "e87afffd",
   "metadata": {},
   "source": [
    "## 2.)    index()"
   ]
  },
  {
   "cell_type": "markdown",
   "id": "a8a62396",
   "metadata": {},
   "source": [
    "### method to find the index of the first occurrence of a specific element in a list"
   ]
  },
  {
   "cell_type": "markdown",
   "id": "be6a562f",
   "metadata": {},
   "source": [
    "### The index() method takes one argument, which is the element you want to find in the list, and it returns the index (position) of the first occurrence of that element. If the element is not found in the list, it raises a ValueError exception."
   ]
  },
  {
   "cell_type": "code",
   "execution_count": 12,
   "id": "ac9682db",
   "metadata": {},
   "outputs": [
    {
     "name": "stdout",
     "output_type": "stream",
     "text": [
      "2\n"
     ]
    }
   ],
   "source": [
    "my_list = [3, 1, 2, 4, 5, 2]\n",
    "\n",
    "# Find the index of the first occurrence of the element 2\n",
    "index = my_list.index(2)\n",
    "\n",
    "print(index)"
   ]
  },
  {
   "cell_type": "code",
   "execution_count": 13,
   "id": "ad3cb58e",
   "metadata": {},
   "outputs": [
    {
     "name": "stdout",
     "output_type": "stream",
     "text": [
      "2\n"
     ]
    }
   ],
   "source": [
    "colours = ('red','pink','green','yellow')\n",
    "index = colours.index('green')\n",
    "print(index)"
   ]
  },
  {
   "cell_type": "code",
   "execution_count": 14,
   "id": "1b100391",
   "metadata": {},
   "outputs": [
    {
     "data": {
      "text/plain": [
       "3"
      ]
     },
     "execution_count": 14,
     "metadata": {},
     "output_type": "execute_result"
    }
   ],
   "source": [
    "colours.index('yellow')"
   ]
  },
  {
   "cell_type": "markdown",
   "id": "35ff0113",
   "metadata": {},
   "source": [
    "##  3.) reverse()"
   ]
  },
  {
   "cell_type": "markdown",
   "id": "fb968658",
   "metadata": {},
   "source": [
    "### the reverse () method reverse the element of the list \n",
    "\n",
    "\n",
    "### syntax\n",
    "   \n",
    "   ### list.reverse()"
   ]
  },
  {
   "cell_type": "markdown",
   "id": "841f0a25",
   "metadata": {},
   "source": [
    "### which means it modifies the original list. Here's how you use the reverse() method:"
   ]
  },
  {
   "cell_type": "code",
   "execution_count": 15,
   "id": "2a97d43f",
   "metadata": {},
   "outputs": [
    {
     "name": "stdout",
     "output_type": "stream",
     "text": [
      "[5, 4, 3, 2, 1]\n"
     ]
    }
   ],
   "source": [
    "my_list = [1, 2, 3, 4, 5]\n",
    "\n",
    "# Reverse the list in place\n",
    "my_list.reverse()\n",
    "\n",
    "print(my_list)"
   ]
  },
  {
   "cell_type": "code",
   "execution_count": 16,
   "id": "272714f2",
   "metadata": {},
   "outputs": [
    {
     "name": "stdout",
     "output_type": "stream",
     "text": [
      "[5, 4, 3, 2, 1]\n",
      "[1, 2, 3, 4, 5]\n"
     ]
    }
   ],
   "source": [
    "my_list = [1, 2, 3, 4, 5]\n",
    "\n",
    "# Create a new reversed list without modifying the original list\n",
    "reversed_list = my_list[::-1]\n",
    "\n",
    "print(reversed_list)  # Output: [5, 4, 3, 2, 1]\n",
    "\n",
    "# Original list remains unchanged\n",
    "print(my_list) "
   ]
  },
  {
   "cell_type": "code",
   "execution_count": 17,
   "id": "36e62b31",
   "metadata": {},
   "outputs": [
    {
     "name": "stdout",
     "output_type": "stream",
     "text": [
      "[1, 2, 3, 4, 5]\n"
     ]
    }
   ],
   "source": [
    "print(my_list)"
   ]
  },
  {
   "cell_type": "code",
   "execution_count": 21,
   "id": "04ae09ab",
   "metadata": {},
   "outputs": [
    {
     "name": "stdout",
     "output_type": "stream",
     "text": [
      "[5, 4, 3, 2, 1]\n"
     ]
    }
   ],
   "source": [
    "print(reversed_list)"
   ]
  },
  {
   "cell_type": "markdown",
   "id": "f8de83e8",
   "metadata": {},
   "source": [
    "##  4.)   clear()"
   ]
  },
  {
   "cell_type": "markdown",
   "id": "b861df8a",
   "metadata": {},
   "source": [
    "### it clear (or) removes all items from list."
   ]
  },
  {
   "cell_type": "markdown",
   "id": "4e6016d2",
   "metadata": {},
   "source": [
    "### syntax\n",
    "  \n",
    "  ### list.clear()"
   ]
  },
  {
   "cell_type": "markdown",
   "id": "5cf156f0",
   "metadata": {},
   "source": [
    "### example"
   ]
  },
  {
   "cell_type": "code",
   "execution_count": 25,
   "id": "7fe61502",
   "metadata": {},
   "outputs": [
    {
     "data": {
      "text/plain": [
       "[]"
      ]
     },
     "execution_count": 25,
     "metadata": {},
     "output_type": "execute_result"
    }
   ],
   "source": [
    "z = ['bunny','ram','meggi']\n",
    "z.clear()\n",
    "z"
   ]
  },
  {
   "cell_type": "markdown",
   "id": "e0275648",
   "metadata": {},
   "source": [
    "## 5.)   copy()"
   ]
  },
  {
   "cell_type": "markdown",
   "id": "ee6be6d0",
   "metadata": {},
   "source": [
    "### the copy() method returns a shallow copy of the list"
   ]
  },
  {
   "cell_type": "markdown",
   "id": "16541010",
   "metadata": {},
   "source": [
    "### syntax \n",
    "\n",
    "### list.copy()"
   ]
  },
  {
   "cell_type": "markdown",
   "id": "8bd9dc24",
   "metadata": {},
   "source": [
    "### example"
   ]
  },
  {
   "cell_type": "code",
   "execution_count": 26,
   "id": "888093c7",
   "metadata": {},
   "outputs": [
    {
     "data": {
      "text/plain": [
       "['bunny', 'ram', 'meggi']"
      ]
     },
     "execution_count": 26,
     "metadata": {},
     "output_type": "execute_result"
    }
   ],
   "source": [
    "z = ['bunny','ram','meggi']\n",
    "z.copy()\n",
    "z"
   ]
  },
  {
   "cell_type": "markdown",
   "id": "ce0015f0",
   "metadata": {},
   "source": [
    "## 6.)  Deepcopy()"
   ]
  },
  {
   "cell_type": "markdown",
   "id": "2a167815",
   "metadata": {},
   "source": [
    "### A deepcopy creates a new object and recursively adds the copies of nested object present in the original elements"
   ]
  },
  {
   "cell_type": "markdown",
   "id": "082e6569",
   "metadata": {},
   "source": [
    "### example"
   ]
  },
  {
   "cell_type": "code",
   "execution_count": 40,
   "id": "7ac19386",
   "metadata": {},
   "outputs": [
    {
     "name": "stdout",
     "output_type": "stream",
     "text": [
      "Old list: ['bunny', 'ram', 'vickey', 'meggi']\n",
      "New list: ['bunny', 'ram', 'vickey', 'meggi']\n"
     ]
    }
   ],
   "source": [
    "old_list = ['bunny','ram','vickey','meggi']\n",
    "new_list = copy.deepcopy(old_list)\n",
    "\n",
    "print(\"Old list:\", old_list)\n",
    "print(\"New list:\", new_list)\n"
   ]
  },
  {
   "cell_type": "code",
   "execution_count": 41,
   "id": "c8728af6",
   "metadata": {},
   "outputs": [
    {
     "name": "stdout",
     "output_type": "stream",
     "text": [
      "old list: ([1, 1, 1], [2, 2, 2], [3, 3, 3])\n",
      "new list: ([1, 1, 1], [2, 2, 2], [3, 3, 3])\n"
     ]
    }
   ],
   "source": [
    "old_list = [1,1,1],[2,2,2],[3,3,3]\n",
    "new_list = copy.deepcopy(old_list)\n",
    "print(\"old list:\", old_list)\n",
    "print(\"new list:\",new_list)"
   ]
  },
  {
   "cell_type": "markdown",
   "id": "5d08031e",
   "metadata": {},
   "source": [
    "## 7.)   shallowcopy()"
   ]
  },
  {
   "cell_type": "markdown",
   "id": "be4cb790",
   "metadata": {},
   "source": [
    "### a shallow copy creates a new object which stores the reference of the original element"
   ]
  },
  {
   "cell_type": "markdown",
   "id": "24284e91",
   "metadata": {},
   "source": [
    "### example"
   ]
  },
  {
   "cell_type": "code",
   "execution_count": 42,
   "id": "7b3e0193",
   "metadata": {},
   "outputs": [
    {
     "name": "stdout",
     "output_type": "stream",
     "text": [
      "['bunny', 'ram', 'vickey', 'meggi']\n",
      "['bunny', 'ram', 'vickey', 'meggi']\n"
     ]
    }
   ],
   "source": [
    "old_list = ['bunny','ram','vickey','meggi']\n",
    "new_list = copy.copy(old_list)\n",
    "\n",
    "print(old_list)\n",
    "print(new_list)"
   ]
  },
  {
   "cell_type": "markdown",
   "id": "9f579a0a",
   "metadata": {},
   "source": [
    "##  8.)  Tuple()"
   ]
  },
  {
   "cell_type": "markdown",
   "id": "18ecbaf3",
   "metadata": {},
   "source": [
    "### a tuple in python is similar to a list. the difference of two is that we cannot change the element of a tuple once it is assigned where as change the element of a list'"
   ]
  },
  {
   "cell_type": "markdown",
   "id": "f98b16c3",
   "metadata": {},
   "source": [
    "### example"
   ]
  },
  {
   "cell_type": "markdown",
   "id": "b89b55f1",
   "metadata": {},
   "source": [
    "## types of tuples"
   ]
  },
  {
   "cell_type": "code",
   "execution_count": 43,
   "id": "a3b768e1",
   "metadata": {},
   "outputs": [
    {
     "name": "stdout",
     "output_type": "stream",
     "text": [
      "()\n"
     ]
    }
   ],
   "source": [
    "# empty tuple\n",
    "\n",
    "my_name = ()\n",
    "print(my_name)"
   ]
  },
  {
   "cell_type": "code",
   "execution_count": null,
   "id": "e5de1e5e",
   "metadata": {},
   "outputs": [],
   "source": []
  },
  {
   "cell_type": "code",
   "execution_count": 44,
   "id": "428fe2f9",
   "metadata": {},
   "outputs": [
    {
     "name": "stdout",
     "output_type": "stream",
     "text": [
      "(1, 2, 3)\n"
     ]
    }
   ],
   "source": [
    "# typle havng integers\n",
    "\n",
    "my_name = (1,2,3)\n",
    "print(my_name)"
   ]
  },
  {
   "cell_type": "code",
   "execution_count": null,
   "id": "71aeb7aa",
   "metadata": {},
   "outputs": [],
   "source": []
  },
  {
   "cell_type": "code",
   "execution_count": 45,
   "id": "38dc29fd",
   "metadata": {},
   "outputs": [
    {
     "name": "stdout",
     "output_type": "stream",
     "text": [
      "(3, 'bunny', 'ramudu', 4.5)\n"
     ]
    }
   ],
   "source": [
    "# typle with mixed datatypes\n",
    "\n",
    "my_name = (3,'bunny','ramudu',4.5)\n",
    "print(my_name)"
   ]
  },
  {
   "cell_type": "code",
   "execution_count": null,
   "id": "33cdf829",
   "metadata": {},
   "outputs": [],
   "source": []
  },
  {
   "cell_type": "code",
   "execution_count": 46,
   "id": "ae15bd31",
   "metadata": {},
   "outputs": [
    {
     "name": "stdout",
     "output_type": "stream",
     "text": [
      "('bunny', [2, 4, 3], (5, 3, 4))\n"
     ]
    }
   ],
   "source": [
    "# nested tuple\n",
    "\n",
    "my_name = ('bunny',[2,4,3],(5,3,4))\n",
    "print(my_name)"
   ]
  },
  {
   "cell_type": "code",
   "execution_count": 47,
   "id": "7ec8046e",
   "metadata": {},
   "outputs": [
    {
     "name": "stdout",
     "output_type": "stream",
     "text": [
      "('ramudu', 'vickey', 'meggi', 'bunny', (1, 2, 3), (4, 5, 6), [8, 9, 10])\n"
     ]
    }
   ],
   "source": [
    "my_name = ('ramudu','vickey','meggi','bunny',(1,2,3),(4,5,6),[8,9,10])\n",
    "print(my_name)"
   ]
  }
 ],
 "metadata": {
  "kernelspec": {
   "display_name": "Python 3 (ipykernel)",
   "language": "python",
   "name": "python3"
  },
  "language_info": {
   "codemirror_mode": {
    "name": "ipython",
    "version": 3
   },
   "file_extension": ".py",
   "mimetype": "text/x-python",
   "name": "python",
   "nbconvert_exporter": "python",
   "pygments_lexer": "ipython3",
   "version": "3.11.5"
  }
 },
 "nbformat": 4,
 "nbformat_minor": 5
}
